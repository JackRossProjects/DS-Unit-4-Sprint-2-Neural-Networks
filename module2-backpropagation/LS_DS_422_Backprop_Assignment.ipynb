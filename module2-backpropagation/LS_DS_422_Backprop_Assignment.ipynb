{
  "nbformat": 4,
  "nbformat_minor": 0,
  "metadata": {
    "colab": {
      "name": "LS_DS_422_Backprop_Assignment.ipynb",
      "provenance": []
    },
    "kernelspec": {
      "display_name": "U4-S1-NLP (Python3)",
      "language": "python",
      "name": "u4-s1-nlp"
    },
    "language_info": {
      "codemirror_mode": {
        "name": "ipython",
        "version": 3
      },
      "file_extension": ".py",
      "mimetype": "text/x-python",
      "name": "python",
      "nbconvert_exporter": "python",
      "pygments_lexer": "ipython3",
      "version": "3.7.0"
    },
    "nteract": {
      "version": "0.22.4"
    }
  },
  "cells": [
    {
      "cell_type": "markdown",
      "metadata": {
        "colab_type": "text",
        "id": "NGGrt9EYlCqY"
      },
      "source": [
        "<img align=\"left\" src=\"https://lever-client-logos.s3.amazonaws.com/864372b1-534c-480e-acd5-9711f850815c-1524247202159.png\" width=200>\n",
        "<br></br>\n",
        "\n",
        "# Backpropagation Practice\n",
        "\n",
        "## *Data Science Unit 4 Sprint 2 Assignment 2*\n",
        "\n",
        "Using TensorFlow Keras, Implement a 3 input, 4 node hidden-layer, 1 output node Multilayer Perceptron on the following dataset:\n",
        "\n",
        "| x1 | x2 | x3 | y |\n",
        "|----|----|----|---|\n",
        "| 0  | 0  | 1  | 0 |\n",
        "| 0  | 1  | 1  | 1 |\n",
        "| 1  | 0  | 1  | 1 |\n",
        "| 0  | 1  | 0  | 1 |\n",
        "| 1  | 0  | 0  | 1 |\n",
        "| 1  | 1  | 1  | 0 |\n",
        "| 0  | 0  | 0  | 0 |\n",
        "\n",
        "If you look at the data you'll notice that the first two columns behave like an XOR gate while the last column is mostly just noise. Remember that creating an XOR gate was what the perceptron was criticized for not being able to learn.\n",
        "\n",
        "This is your \"Hello World!\" of TensorFlow.\n",
        "\n",
        "### Example TensorFlow Starter Code\n",
        "\n",
        "```python \n",
        "from tensorflow.keras.models import Sequential\n",
        "from tensorflow.keras.layers import Dense\n",
        "\n",
        "model = Sequential([\n",
        "    Dense(3, activation='sigmoid', input_dim=2),\n",
        "    Dense(1, activation='sigmoid')\n",
        "])\n",
        "\n",
        "model.compile(optimizer='sgd', loss='binary_crossentropy', metrics=['acc'])\n",
        "\n",
        "results = model.fit(X,y, epochs=100)\n",
        "\n",
        "```\n",
        "### Additional Written Tasks:\n",
        "1. Investigate the various [loss functions](https://www.tensorflow.org/api_docs/python/tf/keras/losses). Which is best suited for the task at hand (predicting 1 / 0) and why? \n",
        "2. What is the difference between a loss function and a metric? Why might we need both in Keras? \n",
        "3. Investigate the various [optimizers](https://www.tensorflow.org/api_docs/python/tf/keras/optimizers). Stochastic Gradient Descent (`sgd`) is not the learning algorithm dejour anyone. Why is that? What do newer optimizers such as `adam` have to offer? "
      ]
    },
    {
      "cell_type": "markdown",
      "metadata": {
        "id": "WfJk7H4mNs0N",
        "colab_type": "text"
      },
      "source": [
        "# Which is best suited for the task at hand (predicting 1 / 0) and why?\n",
        "\n",
        "- Use BinaryCrossentropy when there are only two label classes (assumed to be 0 and 1). For each example, there should be a single floating-point value per prediction.\n",
        "- Use CategoricalCrossentropy when there are two or more label classes. We expect labels to be provided in a one_hot representation\n",
        "\n",
        "For this problem I believe BinaryCrossentropy should be used becasuse our only classes are 1 and 0."
      ]
    },
    {
      "cell_type": "markdown",
      "metadata": {
        "id": "68db-q9sIXIw",
        "colab_type": "text"
      },
      "source": [
        "# What is the difference between a loss function and a metric?\n",
        "Neural networks are mostly trained using gradient methods by an iterative process of decreasing a loss function\n",
        "\n",
        "The loss function is used to optimize your model. This is the function that will get minimized by the optimizer.\n",
        "\n",
        "A metric is used to judge the performance of your model. This is only for you to look at and has nothing to do with the optimization process. We could fully define what a metric is: it's a function that, given predicted values and ground truth values from examples, provides you with a scalar measure of a \"fitness\" of your model, to the data you have."
      ]
    },
    {
      "cell_type": "markdown",
      "metadata": {
        "id": "doJ1dJxaPlh-",
        "colab_type": "text"
      },
      "source": [
        "# Stochastic Gradient Descent (sgd) is not the learning algorithm dejour anyone. Why is that? What do newer optimizers such as adam have to offer?\n",
        "\n",
        "SGD (Stochastic Gradient Descent) is a variation of gradient descent where instead of perfoming gradient descent calculations (lowering the error rate until it converges at a minima) on the whole dataset, SGD performs these on a random subsection of the data so it can get the same performance of classical gradient descent when the learning rate is low.\n",
        "\n",
        "Adam on the other hand is an optimizer that leverages the power of adaptive learning rates to find individual learning rates for each parameter. This makes adams training times much faster than SGD.\n",
        "\n",
        "But at the end of the day, many people still accuse adam of convergence problems that Momentum [1] or SGD + momentum (method which helps accelerate gradients vectors in the right directions, thus leading to faster converging) can converge better than adam but with longer training time. It seems that new optimizers have much to offer in the realm of speed, but it all depends on the type of problem that you're facing."
      ]
    },
    {
      "cell_type": "code",
      "metadata": {
        "id": "VrMto_gcHnjV",
        "colab_type": "code",
        "colab": {}
      },
      "source": [
        "import numpy as np\n",
        "import pandas as pd"
      ],
      "execution_count": 0,
      "outputs": []
    },
    {
      "cell_type": "code",
      "metadata": {
        "id": "qrkjHPdTHLer",
        "colab_type": "code",
        "colab": {}
      },
      "source": [
        "X = pd.DataFrame({\n",
        "    'x1': [0,0,1,0,1,1,0],\n",
        "    'x2': [0,1,0,1,0,1,0],\n",
        "    'x3': [1,1,1,0,0,1,0]\n",
        "})"
      ],
      "execution_count": 0,
      "outputs": []
    },
    {
      "cell_type": "code",
      "metadata": {
        "id": "QrI6s30nH0AG",
        "colab_type": "code",
        "colab": {}
      },
      "source": [
        "y = np.array([0,1,1,1,1,0,0])"
      ],
      "execution_count": 0,
      "outputs": []
    },
    {
      "cell_type": "code",
      "metadata": {
        "colab_type": "code",
        "id": "nEREYT-3wI1f",
        "outputId": "84d325d7-7c78-4eaa-9572-cba423f09ca1",
        "colab": {
          "base_uri": "https://localhost:8080/",
          "height": 1000
        }
      },
      "source": [
        "##### Your Code Here #####\n",
        "from tensorflow.keras.models import Sequential\n",
        "from tensorflow.keras.layers import Dense\n",
        "\n",
        "model = Sequential([\n",
        "    Dense(3, activation='sigmoid', input_dim=3),\n",
        "    Dense(4, activation='sigmoid'),\n",
        "    Dense(1, activation='sigmoid')\n",
        "])\n",
        "\n",
        "model.compile(optimizer='adam', loss='binary_crossentropy', metrics=['acc'])\n",
        "\n",
        "results = model.fit(X,y, epochs=100)\n"
      ],
      "execution_count": 12,
      "outputs": [
        {
          "output_type": "stream",
          "text": [
            "Epoch 1/100\n",
            "1/1 [==============================] - 0s 2ms/step - loss: 0.7123 - acc: 0.4286\n",
            "Epoch 2/100\n",
            "1/1 [==============================] - 0s 1ms/step - loss: 0.7117 - acc: 0.4286\n",
            "Epoch 3/100\n",
            "1/1 [==============================] - 0s 2ms/step - loss: 0.7110 - acc: 0.4286\n",
            "Epoch 4/100\n",
            "1/1 [==============================] - 0s 978us/step - loss: 0.7104 - acc: 0.4286\n",
            "Epoch 5/100\n",
            "1/1 [==============================] - 0s 2ms/step - loss: 0.7098 - acc: 0.4286\n",
            "Epoch 6/100\n",
            "1/1 [==============================] - 0s 2ms/step - loss: 0.7092 - acc: 0.4286\n",
            "Epoch 7/100\n",
            "1/1 [==============================] - 0s 1ms/step - loss: 0.7086 - acc: 0.4286\n",
            "Epoch 8/100\n",
            "1/1 [==============================] - 0s 2ms/step - loss: 0.7080 - acc: 0.4286\n",
            "Epoch 9/100\n",
            "1/1 [==============================] - 0s 2ms/step - loss: 0.7074 - acc: 0.4286\n",
            "Epoch 10/100\n",
            "1/1 [==============================] - 0s 2ms/step - loss: 0.7068 - acc: 0.4286\n",
            "Epoch 11/100\n",
            "1/1 [==============================] - 0s 2ms/step - loss: 0.7063 - acc: 0.4286\n",
            "Epoch 12/100\n",
            "1/1 [==============================] - 0s 2ms/step - loss: 0.7057 - acc: 0.4286\n",
            "Epoch 13/100\n",
            "1/1 [==============================] - 0s 2ms/step - loss: 0.7051 - acc: 0.4286\n",
            "Epoch 14/100\n",
            "1/1 [==============================] - 0s 5ms/step - loss: 0.7046 - acc: 0.4286\n",
            "Epoch 15/100\n",
            "1/1 [==============================] - 0s 1ms/step - loss: 0.7041 - acc: 0.4286\n",
            "Epoch 16/100\n",
            "1/1 [==============================] - 0s 2ms/step - loss: 0.7035 - acc: 0.4286\n",
            "Epoch 17/100\n",
            "1/1 [==============================] - 0s 4ms/step - loss: 0.7030 - acc: 0.4286\n",
            "Epoch 18/100\n",
            "1/1 [==============================] - 0s 2ms/step - loss: 0.7025 - acc: 0.4286\n",
            "Epoch 19/100\n",
            "1/1 [==============================] - 0s 1ms/step - loss: 0.7020 - acc: 0.4286\n",
            "Epoch 20/100\n",
            "1/1 [==============================] - 0s 2ms/step - loss: 0.7015 - acc: 0.4286\n",
            "Epoch 21/100\n",
            "1/1 [==============================] - 0s 1ms/step - loss: 0.7010 - acc: 0.4286\n",
            "Epoch 22/100\n",
            "1/1 [==============================] - 0s 3ms/step - loss: 0.7006 - acc: 0.4286\n",
            "Epoch 23/100\n",
            "1/1 [==============================] - 0s 1ms/step - loss: 0.7001 - acc: 0.4286\n",
            "Epoch 24/100\n",
            "1/1 [==============================] - 0s 1ms/step - loss: 0.6996 - acc: 0.4286\n",
            "Epoch 25/100\n",
            "1/1 [==============================] - 0s 4ms/step - loss: 0.6992 - acc: 0.4286\n",
            "Epoch 26/100\n",
            "1/1 [==============================] - 0s 893us/step - loss: 0.6987 - acc: 0.4286\n",
            "Epoch 27/100\n",
            "1/1 [==============================] - 0s 851us/step - loss: 0.6983 - acc: 0.4286\n",
            "Epoch 28/100\n",
            "1/1 [==============================] - 0s 850us/step - loss: 0.6979 - acc: 0.4286\n",
            "Epoch 29/100\n",
            "1/1 [==============================] - 0s 3ms/step - loss: 0.6975 - acc: 0.4286\n",
            "Epoch 30/100\n",
            "1/1 [==============================] - 0s 2ms/step - loss: 0.6971 - acc: 0.4286\n",
            "Epoch 31/100\n",
            "1/1 [==============================] - 0s 3ms/step - loss: 0.6967 - acc: 0.4286\n",
            "Epoch 32/100\n",
            "1/1 [==============================] - 0s 2ms/step - loss: 0.6963 - acc: 0.4286\n",
            "Epoch 33/100\n",
            "1/1 [==============================] - 0s 1ms/step - loss: 0.6959 - acc: 0.4286\n",
            "Epoch 34/100\n",
            "1/1 [==============================] - 0s 2ms/step - loss: 0.6955 - acc: 0.4286\n",
            "Epoch 35/100\n",
            "1/1 [==============================] - 0s 1ms/step - loss: 0.6952 - acc: 0.5714\n",
            "Epoch 36/100\n",
            "1/1 [==============================] - 0s 2ms/step - loss: 0.6948 - acc: 0.5714\n",
            "Epoch 37/100\n",
            "1/1 [==============================] - 0s 2ms/step - loss: 0.6944 - acc: 0.5714\n",
            "Epoch 38/100\n",
            "1/1 [==============================] - 0s 2ms/step - loss: 0.6941 - acc: 0.5714\n",
            "Epoch 39/100\n",
            "1/1 [==============================] - 0s 1ms/step - loss: 0.6938 - acc: 0.5714\n",
            "Epoch 40/100\n",
            "1/1 [==============================] - 0s 2ms/step - loss: 0.6934 - acc: 0.4286\n",
            "Epoch 41/100\n",
            "1/1 [==============================] - 0s 2ms/step - loss: 0.6931 - acc: 0.4286\n",
            "Epoch 42/100\n",
            "1/1 [==============================] - 0s 1ms/step - loss: 0.6928 - acc: 0.4286\n",
            "Epoch 43/100\n",
            "1/1 [==============================] - 0s 2ms/step - loss: 0.6925 - acc: 0.5714\n",
            "Epoch 44/100\n",
            "1/1 [==============================] - 0s 1ms/step - loss: 0.6922 - acc: 0.4286\n",
            "Epoch 45/100\n",
            "1/1 [==============================] - 0s 2ms/step - loss: 0.6919 - acc: 0.4286\n",
            "Epoch 46/100\n",
            "1/1 [==============================] - 0s 5ms/step - loss: 0.6916 - acc: 0.4286\n",
            "Epoch 47/100\n",
            "1/1 [==============================] - 0s 1ms/step - loss: 0.6914 - acc: 0.5714\n",
            "Epoch 48/100\n",
            "1/1 [==============================] - 0s 3ms/step - loss: 0.6911 - acc: 0.5714\n",
            "Epoch 49/100\n",
            "1/1 [==============================] - 0s 3ms/step - loss: 0.6908 - acc: 0.5714\n",
            "Epoch 50/100\n",
            "1/1 [==============================] - 0s 1ms/step - loss: 0.6906 - acc: 0.5714\n",
            "Epoch 51/100\n",
            "1/1 [==============================] - 0s 1ms/step - loss: 0.6903 - acc: 0.5714\n",
            "Epoch 52/100\n",
            "1/1 [==============================] - 0s 1ms/step - loss: 0.6901 - acc: 0.5714\n",
            "Epoch 53/100\n",
            "1/1 [==============================] - 0s 937us/step - loss: 0.6898 - acc: 0.5714\n",
            "Epoch 54/100\n",
            "1/1 [==============================] - 0s 2ms/step - loss: 0.6896 - acc: 0.5714\n",
            "Epoch 55/100\n",
            "1/1 [==============================] - 0s 2ms/step - loss: 0.6894 - acc: 0.5714\n",
            "Epoch 56/100\n",
            "1/1 [==============================] - 0s 1ms/step - loss: 0.6892 - acc: 0.5714\n",
            "Epoch 57/100\n",
            "1/1 [==============================] - 0s 3ms/step - loss: 0.6890 - acc: 0.5714\n",
            "Epoch 58/100\n",
            "1/1 [==============================] - 0s 2ms/step - loss: 0.6887 - acc: 0.5714\n",
            "Epoch 59/100\n",
            "1/1 [==============================] - 0s 2ms/step - loss: 0.6885 - acc: 0.5714\n",
            "Epoch 60/100\n",
            "1/1 [==============================] - 0s 3ms/step - loss: 0.6883 - acc: 0.5714\n",
            "Epoch 61/100\n",
            "1/1 [==============================] - 0s 2ms/step - loss: 0.6882 - acc: 0.5714\n",
            "Epoch 62/100\n",
            "1/1 [==============================] - 0s 2ms/step - loss: 0.6880 - acc: 0.5714\n",
            "Epoch 63/100\n",
            "1/1 [==============================] - 0s 1ms/step - loss: 0.6878 - acc: 0.5714\n",
            "Epoch 64/100\n",
            "1/1 [==============================] - 0s 3ms/step - loss: 0.6876 - acc: 0.5714\n",
            "Epoch 65/100\n",
            "1/1 [==============================] - 0s 3ms/step - loss: 0.6874 - acc: 0.5714\n",
            "Epoch 66/100\n",
            "1/1 [==============================] - 0s 8ms/step - loss: 0.6873 - acc: 0.5714\n",
            "Epoch 67/100\n",
            "1/1 [==============================] - 0s 3ms/step - loss: 0.6871 - acc: 0.5714\n",
            "Epoch 68/100\n",
            "1/1 [==============================] - 0s 5ms/step - loss: 0.6870 - acc: 0.5714\n",
            "Epoch 69/100\n",
            "1/1 [==============================] - 0s 2ms/step - loss: 0.6868 - acc: 0.5714\n",
            "Epoch 70/100\n",
            "1/1 [==============================] - 0s 3ms/step - loss: 0.6867 - acc: 0.5714\n",
            "Epoch 71/100\n",
            "1/1 [==============================] - 0s 2ms/step - loss: 0.6865 - acc: 0.5714\n",
            "Epoch 72/100\n",
            "1/1 [==============================] - 0s 2ms/step - loss: 0.6864 - acc: 0.5714\n",
            "Epoch 73/100\n",
            "1/1 [==============================] - 0s 2ms/step - loss: 0.6863 - acc: 0.5714\n",
            "Epoch 74/100\n",
            "1/1 [==============================] - 0s 2ms/step - loss: 0.6861 - acc: 0.5714\n",
            "Epoch 75/100\n",
            "1/1 [==============================] - 0s 2ms/step - loss: 0.6860 - acc: 0.5714\n",
            "Epoch 76/100\n",
            "1/1 [==============================] - 0s 2ms/step - loss: 0.6859 - acc: 0.5714\n",
            "Epoch 77/100\n",
            "1/1 [==============================] - 0s 2ms/step - loss: 0.6858 - acc: 0.5714\n",
            "Epoch 78/100\n",
            "1/1 [==============================] - 0s 2ms/step - loss: 0.6856 - acc: 0.5714\n",
            "Epoch 79/100\n",
            "1/1 [==============================] - 0s 3ms/step - loss: 0.6855 - acc: 0.5714\n",
            "Epoch 80/100\n",
            "1/1 [==============================] - 0s 2ms/step - loss: 0.6854 - acc: 0.5714\n",
            "Epoch 81/100\n",
            "1/1 [==============================] - 0s 2ms/step - loss: 0.6853 - acc: 0.5714\n",
            "Epoch 82/100\n",
            "1/1 [==============================] - 0s 2ms/step - loss: 0.6852 - acc: 0.5714\n",
            "Epoch 83/100\n",
            "1/1 [==============================] - 0s 2ms/step - loss: 0.6851 - acc: 0.5714\n",
            "Epoch 84/100\n",
            "1/1 [==============================] - 0s 2ms/step - loss: 0.6850 - acc: 0.5714\n",
            "Epoch 85/100\n",
            "1/1 [==============================] - 0s 2ms/step - loss: 0.6849 - acc: 0.5714\n",
            "Epoch 86/100\n",
            "1/1 [==============================] - 0s 3ms/step - loss: 0.6848 - acc: 0.5714\n",
            "Epoch 87/100\n",
            "1/1 [==============================] - 0s 7ms/step - loss: 0.6848 - acc: 0.5714\n",
            "Epoch 88/100\n",
            "1/1 [==============================] - 0s 2ms/step - loss: 0.6847 - acc: 0.5714\n",
            "Epoch 89/100\n",
            "1/1 [==============================] - 0s 2ms/step - loss: 0.6846 - acc: 0.5714\n",
            "Epoch 90/100\n",
            "1/1 [==============================] - 0s 3ms/step - loss: 0.6845 - acc: 0.5714\n",
            "Epoch 91/100\n",
            "1/1 [==============================] - 0s 2ms/step - loss: 0.6844 - acc: 0.5714\n",
            "Epoch 92/100\n",
            "1/1 [==============================] - 0s 3ms/step - loss: 0.6844 - acc: 0.5714\n",
            "Epoch 93/100\n",
            "1/1 [==============================] - 0s 2ms/step - loss: 0.6843 - acc: 0.5714\n",
            "Epoch 94/100\n",
            "1/1 [==============================] - 0s 5ms/step - loss: 0.6842 - acc: 0.5714\n",
            "Epoch 95/100\n",
            "1/1 [==============================] - 0s 2ms/step - loss: 0.6842 - acc: 0.5714\n",
            "Epoch 96/100\n",
            "1/1 [==============================] - 0s 2ms/step - loss: 0.6841 - acc: 0.5714\n",
            "Epoch 97/100\n",
            "1/1 [==============================] - 0s 2ms/step - loss: 0.6840 - acc: 0.5714\n",
            "Epoch 98/100\n",
            "1/1 [==============================] - 0s 2ms/step - loss: 0.6840 - acc: 0.5714\n",
            "Epoch 99/100\n",
            "1/1 [==============================] - 0s 5ms/step - loss: 0.6839 - acc: 0.5714\n",
            "Epoch 100/100\n",
            "1/1 [==============================] - 0s 2ms/step - loss: 0.6839 - acc: 0.5714\n"
          ],
          "name": "stdout"
        }
      ]
    },
    {
      "cell_type": "markdown",
      "metadata": {
        "id": "VWLVdEzg_shM",
        "colab_type": "text"
      },
      "source": [
        "### Build a Tensor Keras Perceptron\n",
        "\n",
        "Try to match the architecture we used on Monday - inputs nodes and one output node. Apply this architecture to the XOR-ish dataset above. \n",
        "\n",
        "After fitting your model answer these questions: \n",
        "\n",
        "Are you able to achieve the same results as a bigger architecture from the first part of the assignment? Why is this disparity the case? What properties of the XOR dataset would cause this disparity? \n",
        "\n",
        "Now extrapolate this behavior on a much larger dataset in terms of features. What kind of architecture decisions could we make to avoid the problems the XOR dataset presents at scale? \n",
        "\n",
        "*Note:* The bias term is baked in by default in the Dense layer."
      ]
    },
    {
      "cell_type": "code",
      "metadata": {
        "id": "9OWplaNI_shN",
        "colab_type": "code",
        "outputId": "e96582e9-ec79-4f09-ea17-874b270bb95a",
        "colab": {
          "base_uri": "https://localhost:8080/",
          "height": 1000
        }
      },
      "source": [
        "model = Sequential([\n",
        "    Dense(2, activation='sigmoid', input_dim=3),\n",
        "    Dense(1, activation='sigmoid')\n",
        "])\n",
        " \n",
        "model.compile(optimizer='sgd', loss='binary_crossentropy', metrics=['acc'])\n",
        " \n",
        "results = model.fit(X,y, epochs=100)"
      ],
      "execution_count": 13,
      "outputs": [
        {
          "output_type": "stream",
          "text": [
            "Epoch 1/100\n",
            "1/1 [==============================] - 0s 2ms/step - loss: 0.6878 - acc: 0.5714\n",
            "Epoch 2/100\n",
            "1/1 [==============================] - 0s 2ms/step - loss: 0.6878 - acc: 0.5714\n",
            "Epoch 3/100\n",
            "1/1 [==============================] - 0s 3ms/step - loss: 0.6878 - acc: 0.5714\n",
            "Epoch 4/100\n",
            "1/1 [==============================] - 0s 1ms/step - loss: 0.6878 - acc: 0.5714\n",
            "Epoch 5/100\n",
            "1/1 [==============================] - 0s 1ms/step - loss: 0.6878 - acc: 0.5714\n",
            "Epoch 6/100\n",
            "1/1 [==============================] - 0s 1ms/step - loss: 0.6877 - acc: 0.5714\n",
            "Epoch 7/100\n",
            "1/1 [==============================] - 0s 2ms/step - loss: 0.6877 - acc: 0.5714\n",
            "Epoch 8/100\n",
            "1/1 [==============================] - 0s 2ms/step - loss: 0.6877 - acc: 0.5714\n",
            "Epoch 9/100\n",
            "1/1 [==============================] - 0s 1ms/step - loss: 0.6877 - acc: 0.5714\n",
            "Epoch 10/100\n",
            "1/1 [==============================] - 0s 5ms/step - loss: 0.6877 - acc: 0.5714\n",
            "Epoch 11/100\n",
            "1/1 [==============================] - 0s 1ms/step - loss: 0.6877 - acc: 0.5714\n",
            "Epoch 12/100\n",
            "1/1 [==============================] - 0s 2ms/step - loss: 0.6876 - acc: 0.5714\n",
            "Epoch 13/100\n",
            "1/1 [==============================] - 0s 1ms/step - loss: 0.6876 - acc: 0.5714\n",
            "Epoch 14/100\n",
            "1/1 [==============================] - 0s 1ms/step - loss: 0.6876 - acc: 0.5714\n",
            "Epoch 15/100\n",
            "1/1 [==============================] - 0s 2ms/step - loss: 0.6876 - acc: 0.5714\n",
            "Epoch 16/100\n",
            "1/1 [==============================] - 0s 1ms/step - loss: 0.6876 - acc: 0.5714\n",
            "Epoch 17/100\n",
            "1/1 [==============================] - 0s 3ms/step - loss: 0.6875 - acc: 0.5714\n",
            "Epoch 18/100\n",
            "1/1 [==============================] - 0s 1ms/step - loss: 0.6875 - acc: 0.5714\n",
            "Epoch 19/100\n",
            "1/1 [==============================] - 0s 2ms/step - loss: 0.6875 - acc: 0.5714\n",
            "Epoch 20/100\n",
            "1/1 [==============================] - 0s 2ms/step - loss: 0.6875 - acc: 0.5714\n",
            "Epoch 21/100\n",
            "1/1 [==============================] - 0s 2ms/step - loss: 0.6875 - acc: 0.5714\n",
            "Epoch 22/100\n",
            "1/1 [==============================] - 0s 2ms/step - loss: 0.6875 - acc: 0.5714\n",
            "Epoch 23/100\n",
            "1/1 [==============================] - 0s 1ms/step - loss: 0.6875 - acc: 0.5714\n",
            "Epoch 24/100\n",
            "1/1 [==============================] - 0s 1ms/step - loss: 0.6874 - acc: 0.5714\n",
            "Epoch 25/100\n",
            "1/1 [==============================] - 0s 2ms/step - loss: 0.6874 - acc: 0.5714\n",
            "Epoch 26/100\n",
            "1/1 [==============================] - 0s 2ms/step - loss: 0.6874 - acc: 0.5714\n",
            "Epoch 27/100\n",
            "1/1 [==============================] - 0s 2ms/step - loss: 0.6874 - acc: 0.5714\n",
            "Epoch 28/100\n",
            "1/1 [==============================] - 0s 1ms/step - loss: 0.6874 - acc: 0.5714\n",
            "Epoch 29/100\n",
            "1/1 [==============================] - 0s 801us/step - loss: 0.6874 - acc: 0.5714\n",
            "Epoch 30/100\n",
            "1/1 [==============================] - 0s 1ms/step - loss: 0.6873 - acc: 0.5714\n",
            "Epoch 31/100\n",
            "1/1 [==============================] - 0s 3ms/step - loss: 0.6873 - acc: 0.5714\n",
            "Epoch 32/100\n",
            "1/1 [==============================] - 0s 1ms/step - loss: 0.6873 - acc: 0.5714\n",
            "Epoch 33/100\n",
            "1/1 [==============================] - 0s 2ms/step - loss: 0.6873 - acc: 0.5714\n",
            "Epoch 34/100\n",
            "1/1 [==============================] - 0s 1ms/step - loss: 0.6873 - acc: 0.5714\n",
            "Epoch 35/100\n",
            "1/1 [==============================] - 0s 2ms/step - loss: 0.6873 - acc: 0.5714\n",
            "Epoch 36/100\n",
            "1/1 [==============================] - 0s 1ms/step - loss: 0.6873 - acc: 0.5714\n",
            "Epoch 37/100\n",
            "1/1 [==============================] - 0s 1ms/step - loss: 0.6872 - acc: 0.5714\n",
            "Epoch 38/100\n",
            "1/1 [==============================] - 0s 1ms/step - loss: 0.6872 - acc: 0.5714\n",
            "Epoch 39/100\n",
            "1/1 [==============================] - 0s 2ms/step - loss: 0.6872 - acc: 0.5714\n",
            "Epoch 40/100\n",
            "1/1 [==============================] - 0s 1ms/step - loss: 0.6872 - acc: 0.5714\n",
            "Epoch 41/100\n",
            "1/1 [==============================] - 0s 2ms/step - loss: 0.6872 - acc: 0.5714\n",
            "Epoch 42/100\n",
            "1/1 [==============================] - 0s 2ms/step - loss: 0.6872 - acc: 0.5714\n",
            "Epoch 43/100\n",
            "1/1 [==============================] - 0s 1ms/step - loss: 0.6872 - acc: 0.5714\n",
            "Epoch 44/100\n",
            "1/1 [==============================] - 0s 2ms/step - loss: 0.6871 - acc: 0.5714\n",
            "Epoch 45/100\n",
            "1/1 [==============================] - 0s 2ms/step - loss: 0.6871 - acc: 0.5714\n",
            "Epoch 46/100\n",
            "1/1 [==============================] - 0s 2ms/step - loss: 0.6871 - acc: 0.5714\n",
            "Epoch 47/100\n",
            "1/1 [==============================] - 0s 1ms/step - loss: 0.6871 - acc: 0.5714\n",
            "Epoch 48/100\n",
            "1/1 [==============================] - 0s 2ms/step - loss: 0.6871 - acc: 0.5714\n",
            "Epoch 49/100\n",
            "1/1 [==============================] - 0s 2ms/step - loss: 0.6871 - acc: 0.5714\n",
            "Epoch 50/100\n",
            "1/1 [==============================] - 0s 1ms/step - loss: 0.6871 - acc: 0.5714\n",
            "Epoch 51/100\n",
            "1/1 [==============================] - 0s 1ms/step - loss: 0.6871 - acc: 0.5714\n",
            "Epoch 52/100\n",
            "1/1 [==============================] - 0s 1ms/step - loss: 0.6870 - acc: 0.5714\n",
            "Epoch 53/100\n",
            "1/1 [==============================] - 0s 1ms/step - loss: 0.6870 - acc: 0.5714\n",
            "Epoch 54/100\n",
            "1/1 [==============================] - 0s 1ms/step - loss: 0.6870 - acc: 0.5714\n",
            "Epoch 55/100\n",
            "1/1 [==============================] - 0s 1ms/step - loss: 0.6870 - acc: 0.5714\n",
            "Epoch 56/100\n",
            "1/1 [==============================] - 0s 2ms/step - loss: 0.6870 - acc: 0.5714\n",
            "Epoch 57/100\n",
            "1/1 [==============================] - 0s 2ms/step - loss: 0.6870 - acc: 0.5714\n",
            "Epoch 58/100\n",
            "1/1 [==============================] - 0s 2ms/step - loss: 0.6870 - acc: 0.5714\n",
            "Epoch 59/100\n",
            "1/1 [==============================] - 0s 1ms/step - loss: 0.6870 - acc: 0.5714\n",
            "Epoch 60/100\n",
            "1/1 [==============================] - 0s 1ms/step - loss: 0.6869 - acc: 0.5714\n",
            "Epoch 61/100\n",
            "1/1 [==============================] - 0s 2ms/step - loss: 0.6869 - acc: 0.5714\n",
            "Epoch 62/100\n",
            "1/1 [==============================] - 0s 2ms/step - loss: 0.6869 - acc: 0.5714\n",
            "Epoch 63/100\n",
            "1/1 [==============================] - 0s 3ms/step - loss: 0.6869 - acc: 0.5714\n",
            "Epoch 64/100\n",
            "1/1 [==============================] - 0s 1ms/step - loss: 0.6869 - acc: 0.5714\n",
            "Epoch 65/100\n",
            "1/1 [==============================] - 0s 2ms/step - loss: 0.6869 - acc: 0.5714\n",
            "Epoch 66/100\n",
            "1/1 [==============================] - 0s 1ms/step - loss: 0.6869 - acc: 0.5714\n",
            "Epoch 67/100\n",
            "1/1 [==============================] - 0s 1ms/step - loss: 0.6869 - acc: 0.5714\n",
            "Epoch 68/100\n",
            "1/1 [==============================] - 0s 2ms/step - loss: 0.6869 - acc: 0.5714\n",
            "Epoch 69/100\n",
            "1/1 [==============================] - 0s 1ms/step - loss: 0.6868 - acc: 0.5714\n",
            "Epoch 70/100\n",
            "1/1 [==============================] - 0s 2ms/step - loss: 0.6868 - acc: 0.5714\n",
            "Epoch 71/100\n",
            "1/1 [==============================] - 0s 2ms/step - loss: 0.6868 - acc: 0.5714\n",
            "Epoch 72/100\n",
            "1/1 [==============================] - 0s 1ms/step - loss: 0.6868 - acc: 0.5714\n",
            "Epoch 73/100\n",
            "1/1 [==============================] - 0s 2ms/step - loss: 0.6868 - acc: 0.5714\n",
            "Epoch 74/100\n",
            "1/1 [==============================] - 0s 1ms/step - loss: 0.6868 - acc: 0.5714\n",
            "Epoch 75/100\n",
            "1/1 [==============================] - 0s 1ms/step - loss: 0.6868 - acc: 0.5714\n",
            "Epoch 76/100\n",
            "1/1 [==============================] - 0s 2ms/step - loss: 0.6868 - acc: 0.5714\n",
            "Epoch 77/100\n",
            "1/1 [==============================] - 0s 1ms/step - loss: 0.6868 - acc: 0.5714\n",
            "Epoch 78/100\n",
            "1/1 [==============================] - 0s 2ms/step - loss: 0.6867 - acc: 0.5714\n",
            "Epoch 79/100\n",
            "1/1 [==============================] - 0s 2ms/step - loss: 0.6867 - acc: 0.5714\n",
            "Epoch 80/100\n",
            "1/1 [==============================] - 0s 2ms/step - loss: 0.6867 - acc: 0.5714\n",
            "Epoch 81/100\n",
            "1/1 [==============================] - 0s 2ms/step - loss: 0.6867 - acc: 0.5714\n",
            "Epoch 82/100\n",
            "1/1 [==============================] - 0s 2ms/step - loss: 0.6867 - acc: 0.5714\n",
            "Epoch 83/100\n",
            "1/1 [==============================] - 0s 1ms/step - loss: 0.6867 - acc: 0.5714\n",
            "Epoch 84/100\n",
            "1/1 [==============================] - 0s 2ms/step - loss: 0.6867 - acc: 0.5714\n",
            "Epoch 85/100\n",
            "1/1 [==============================] - 0s 2ms/step - loss: 0.6867 - acc: 0.5714\n",
            "Epoch 86/100\n",
            "1/1 [==============================] - 0s 2ms/step - loss: 0.6867 - acc: 0.5714\n",
            "Epoch 87/100\n",
            "1/1 [==============================] - 0s 2ms/step - loss: 0.6867 - acc: 0.5714\n",
            "Epoch 88/100\n",
            "1/1 [==============================] - 0s 3ms/step - loss: 0.6866 - acc: 0.5714\n",
            "Epoch 89/100\n",
            "1/1 [==============================] - 0s 2ms/step - loss: 0.6866 - acc: 0.5714\n",
            "Epoch 90/100\n",
            "1/1 [==============================] - 0s 2ms/step - loss: 0.6866 - acc: 0.5714\n",
            "Epoch 91/100\n",
            "1/1 [==============================] - 0s 1ms/step - loss: 0.6866 - acc: 0.5714\n",
            "Epoch 92/100\n",
            "1/1 [==============================] - 0s 1ms/step - loss: 0.6866 - acc: 0.5714\n",
            "Epoch 93/100\n",
            "1/1 [==============================] - 0s 2ms/step - loss: 0.6866 - acc: 0.5714\n",
            "Epoch 94/100\n",
            "1/1 [==============================] - 0s 2ms/step - loss: 0.6866 - acc: 0.5714\n",
            "Epoch 95/100\n",
            "1/1 [==============================] - 0s 2ms/step - loss: 0.6866 - acc: 0.5714\n",
            "Epoch 96/100\n",
            "1/1 [==============================] - 0s 1ms/step - loss: 0.6866 - acc: 0.5714\n",
            "Epoch 97/100\n",
            "1/1 [==============================] - 0s 1ms/step - loss: 0.6866 - acc: 0.5714\n",
            "Epoch 98/100\n",
            "1/1 [==============================] - 0s 4ms/step - loss: 0.6866 - acc: 0.5714\n",
            "Epoch 99/100\n",
            "1/1 [==============================] - 0s 3ms/step - loss: 0.6865 - acc: 0.5714\n",
            "Epoch 100/100\n",
            "1/1 [==============================] - 0s 2ms/step - loss: 0.6865 - acc: 0.5714\n"
          ],
          "name": "stdout"
        }
      ]
    },
    {
      "cell_type": "markdown",
      "metadata": {
        "id": "lnLHfCG-ftII",
        "colab_type": "text"
      },
      "source": [
        "# Are you able to achieve the same results as a bigger architecture from the first part of the assignment? Why is this disparity the case? What properties of the XOR dataset would cause this disparity?\n",
        "\n",
        "The bigger architecture was better. It had a lower loss and higher accuracy than the second. The bigger model was better becuase a single layer doesn't have enough linear combinations to handle odd cases of XOR which can be tackled by multiple layers."
      ]
    },
    {
      "cell_type": "markdown",
      "metadata": {
        "id": "5aGXt2IXftLZ",
        "colab_type": "text"
      },
      "source": [
        "# What kind of architecture decisions could we make to avoid the problems the XOR dataset presents at scale?\n",
        "\n",
        "We would need to have a depth great enough that important linear combinations are built into the model but not so long that it hurts the model or wastes computational resources."
      ]
    },
    {
      "cell_type": "markdown",
      "metadata": {
        "colab_type": "text",
        "id": "8b-r70o8p2Dm"
      },
      "source": [
        "## Try building/training a more complex MLP on a bigger dataset.\n",
        "\n",
        "Use TensorFlow Keras & the [MNIST dataset](http://yann.lecun.com/exdb/mnist/) to build the canonical handwriting digit recognizer and see what kind of accuracy you can achieve. \n",
        "\n",
        "If you need inspiration, the Internet is chalk-full of tutorials, but I want you to see how far you can get on your own first. I've linked to the original MNIST dataset above but it will probably be easier to download data through a neural network library. If you reference outside resources make sure you understand every line of code that you're using from other sources, and share with your fellow students helpful resources that you find.\n",
        "\n",
        "\n",
        "### Parts\n",
        "1. Gathering & Transforming the Data\n",
        "2. Making MNIST a Binary Problem\n",
        "3. Estimating your Neural Network (the part you focus on)"
      ]
    },
    {
      "cell_type": "markdown",
      "metadata": {
        "id": "hIMQW7cm_shT",
        "colab_type": "text"
      },
      "source": [
        "### Gathering the Data \n",
        "\n",
        "`keras` has a handy method to pull the mnist dataset for you. You'll notice that each observation is a 28x28 arrary which represents an image. Although most Neural Network frameworks can handle higher dimensional data, that is more overhead than necessary for us. We need to flatten the image to one long row which will be 784 values (28X28). Basically, you will be appending each row to one another to make on really long row. "
      ]
    },
    {
      "cell_type": "code",
      "metadata": {
        "id": "1WTAiIAQ_shU",
        "colab_type": "code",
        "colab": {}
      },
      "source": [
        "import numpy as np\n",
        "from tensorflow.keras.datasets import mnist\n",
        "from tensorflow.keras.utils import to_categorical"
      ],
      "execution_count": 0,
      "outputs": []
    },
    {
      "cell_type": "code",
      "metadata": {
        "id": "mRXgxD0S_shY",
        "colab_type": "code",
        "colab": {}
      },
      "source": [
        "# input image dimensions\n",
        "img_rows, img_cols = 28, 28"
      ],
      "execution_count": 0,
      "outputs": []
    },
    {
      "cell_type": "code",
      "metadata": {
        "id": "R_h6X1xD_shc",
        "colab_type": "code",
        "colab": {}
      },
      "source": [
        "# the data, split between train and test sets\n",
        "(x_train, y_train), (x_test, y_test) = mnist.load_data()"
      ],
      "execution_count": 0,
      "outputs": []
    },
    {
      "cell_type": "code",
      "metadata": {
        "id": "aggouTsw_shg",
        "colab_type": "code",
        "colab": {}
      },
      "source": [
        "x_train = x_train.reshape(x_train.shape[0], img_rows * img_cols)\n",
        "x_test = x_test.reshape(x_test.shape[0], img_rows * img_cols)\n",
        "\n",
        "# Normalize Our Data\n",
        "x_train = x_train / 255\n",
        "x_test = x_test / 255"
      ],
      "execution_count": 0,
      "outputs": []
    },
    {
      "cell_type": "code",
      "metadata": {
        "id": "3BvKlAQF_shl",
        "colab_type": "code",
        "outputId": "477735fb-6299-4161-e56a-b82b63db267d",
        "colab": {
          "base_uri": "https://localhost:8080/",
          "height": 35
        }
      },
      "source": [
        "# Now the data should be in a format you're more familiar with\n",
        "x_train.shape"
      ],
      "execution_count": 18,
      "outputs": [
        {
          "output_type": "execute_result",
          "data": {
            "text/plain": [
              "(60000, 784)"
            ]
          },
          "metadata": {
            "tags": []
          },
          "execution_count": 18
        }
      ]
    },
    {
      "cell_type": "markdown",
      "metadata": {
        "id": "IS2s7K1R_shp",
        "colab_type": "text"
      },
      "source": [
        "### Making MNIST a Binary Problem \n",
        "MNIST is multiclass classification problem; however we haven't covered all the necessary techniques to handle this yet. You would need to one-hot encode the target, use a different loss metric, and use softmax activations for the last layer. This is all stuff we'll cover later this week, but let us simplify the problem for now: Zero or all else."
      ]
    },
    {
      "cell_type": "code",
      "metadata": {
        "id": "B5X5KPhm_shq",
        "colab_type": "code",
        "colab": {}
      },
      "source": [
        "import numpy as np\n",
        "\n",
        "y_temp = np.zeros(y_train.shape)\n",
        "y_temp[np.where(y_train == 0.0)[0]] = 1\n",
        "y_train = y_temp\n",
        "\n",
        "y_temp = np.zeros(y_test.shape)\n",
        "y_temp[np.where(y_test == 0.0)[0]] = 1\n",
        "y_test = y_temp"
      ],
      "execution_count": 0,
      "outputs": []
    },
    {
      "cell_type": "code",
      "metadata": {
        "id": "778IdYVZ_shu",
        "colab_type": "code",
        "colab": {
          "base_uri": "https://localhost:8080/",
          "height": 35
        },
        "outputId": "d90b8f12-50ba-4fcd-82d9-30af2f29a551"
      },
      "source": [
        "# A Nice Binary target for ya to work with\n",
        "y_train"
      ],
      "execution_count": 20,
      "outputs": [
        {
          "output_type": "execute_result",
          "data": {
            "text/plain": [
              "array([0., 1., 0., ..., 0., 0., 0.])"
            ]
          },
          "metadata": {
            "tags": []
          },
          "execution_count": 20
        }
      ]
    },
    {
      "cell_type": "markdown",
      "metadata": {
        "id": "xpV_B9oc_shy",
        "colab_type": "text"
      },
      "source": [
        "### Estimating Your `net"
      ]
    },
    {
      "cell_type": "code",
      "metadata": {
        "colab_type": "code",
        "id": "5MOPtYdk1HgA",
        "colab": {
          "base_uri": "https://localhost:8080/",
          "height": 542
        },
        "outputId": "adc242c7-9b25-4ff1-91ec-136978337669"
      },
      "source": [
        "##### Your Code Here #####\n",
        "model = Sequential([\n",
        "    Dense(784, activation='sigmoid', input_dim=784),\n",
        "    Dense(32, activation='sigmoid'),\n",
        "    Dense(32, activation='sigmoid'),\n",
        "    Dense(1, activation='sigmoid')\n",
        "])\n",
        " \n",
        "model.compile(optimizer='sgd', loss='binary_crossentropy', metrics=['acc'])\n",
        " \n",
        "results = model.fit(x_train,y_train, epochs=15)\n"
      ],
      "execution_count": 21,
      "outputs": [
        {
          "output_type": "stream",
          "text": [
            "Epoch 1/15\n",
            "1875/1875 [==============================] - 8s 4ms/step - loss: 0.3230 - acc: 0.9013\n",
            "Epoch 2/15\n",
            "1875/1875 [==============================] - 8s 4ms/step - loss: 0.3152 - acc: 0.9013\n",
            "Epoch 3/15\n",
            "1875/1875 [==============================] - 7s 4ms/step - loss: 0.3022 - acc: 0.9013\n",
            "Epoch 4/15\n",
            "1875/1875 [==============================] - 7s 4ms/step - loss: 0.2643 - acc: 0.9013\n",
            "Epoch 5/15\n",
            "1875/1875 [==============================] - 7s 4ms/step - loss: 0.1743 - acc: 0.9212\n",
            "Epoch 6/15\n",
            "1875/1875 [==============================] - 7s 4ms/step - loss: 0.0988 - acc: 0.9730\n",
            "Epoch 7/15\n",
            "1875/1875 [==============================] - 7s 4ms/step - loss: 0.0701 - acc: 0.9808\n",
            "Epoch 8/15\n",
            "1875/1875 [==============================] - 8s 4ms/step - loss: 0.0570 - acc: 0.9837\n",
            "Epoch 9/15\n",
            "1875/1875 [==============================] - 8s 4ms/step - loss: 0.0493 - acc: 0.9857\n",
            "Epoch 10/15\n",
            "1875/1875 [==============================] - 8s 4ms/step - loss: 0.0442 - acc: 0.9869\n",
            "Epoch 11/15\n",
            "1875/1875 [==============================] - 8s 4ms/step - loss: 0.0407 - acc: 0.9877\n",
            "Epoch 12/15\n",
            "1875/1875 [==============================] - 8s 4ms/step - loss: 0.0381 - acc: 0.9887\n",
            "Epoch 13/15\n",
            "1875/1875 [==============================] - 8s 4ms/step - loss: 0.0362 - acc: 0.9894\n",
            "Epoch 14/15\n",
            "1875/1875 [==============================] - 8s 4ms/step - loss: 0.0347 - acc: 0.9896\n",
            "Epoch 15/15\n",
            "1875/1875 [==============================] - 8s 4ms/step - loss: 0.0335 - acc: 0.9901\n"
          ],
          "name": "stdout"
        }
      ]
    },
    {
      "cell_type": "markdown",
      "metadata": {
        "colab_type": "text",
        "id": "FwlRJSfBlCvy"
      },
      "source": [
        "## Stretch Goals: \n",
        "\n",
        "- Make MNIST a multiclass problem using cross entropy & soft-max\n",
        "- Implement Cross Validation model evaluation on your MNIST implementation \n",
        "- Research different [Gradient Descent Based Optimizers](https://keras.io/optimizers/)\n",
        " - [Siraj Raval the evolution of gradient descent](https://www.youtube.com/watch?v=nhqo0u1a6fw)\n",
        "- Build a housing price estimation model using a neural network. How does its accuracy compare with the regression models that we fit earlier on in class?"
      ]
    },
    {
      "cell_type": "code",
      "metadata": {
        "id": "jQAB0TxWa-Bu",
        "colab_type": "code",
        "colab": {}
      },
      "source": [
        ""
      ],
      "execution_count": 0,
      "outputs": []
    }
  ]
}